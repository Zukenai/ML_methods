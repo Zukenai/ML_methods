{
 "cells": [
  {
   "cell_type": "code",
   "execution_count": null,
   "id": "5b7f201f-cadd-47d5-aa37-e486f46576d7",
   "metadata": {},
   "outputs": [],
   "source": [
    "!pip install mlxtend"
   ]
  },
  {
   "cell_type": "code",
   "execution_count": null,
   "id": "fecad22f-cdf0-45b6-a569-a6db5dd0a864",
   "metadata": {},
   "outputs": [],
   "source": [
    "import pandas as pd\n",
    "import matplotlib.pyplot as plt\n",
    "import numpy as np\n",
    "from sklearn import preprocessing"
   ]
  },
  {
   "cell_type": "code",
   "execution_count": null,
   "id": "0744001d-e940-4a70-a100-f1a35e0ad38d",
   "metadata": {},
   "outputs": [],
   "source": [
    "all_data = pd.read_csv('dataset_group.csv',header=None)\n",
    "all_data"
   ]
  },
  {
   "cell_type": "code",
   "execution_count": null,
   "id": "772d4aff-9cfd-47a5-a529-c6d079021a21",
   "metadata": {},
   "outputs": [],
   "source": [
    "unique_id = list(set(all_data[1]))\n",
    "print(len(unique_id)) #Выведем количество id"
   ]
  },
  {
   "cell_type": "code",
   "execution_count": null,
   "id": "40a412c5-7e34-49eb-8f2e-6101d65631b3",
   "metadata": {},
   "outputs": [],
   "source": [
    "items = list(set(all_data[2]))\n",
    "print(len(items)) #Выведем количество товаров"
   ]
  },
  {
   "cell_type": "code",
   "execution_count": null,
   "id": "9db51197-2fc2-4d3a-aae5-d0f235151db9",
   "metadata": {},
   "outputs": [],
   "source": [
    "dataset = [[elem for elem in all_data[all_data[1] == id][2] if elem in\n",
    "items] for id in unique_id]"
   ]
  },
  {
   "cell_type": "code",
   "execution_count": null,
   "id": "19df78d6-fbfc-4722-b06a-aacde1b96668",
   "metadata": {},
   "outputs": [],
   "source": [
    "from mlxtend.preprocessing import TransactionEncoder\n",
    "te = TransactionEncoder()\n",
    "te_ary = te.fit(dataset).transform(dataset)\n",
    "df = pd.DataFrame(te_ary, columns=te.columns_)\n",
    "df"
   ]
  },
  {
   "cell_type": "code",
   "execution_count": null,
   "id": "94a9801b-3469-46fc-ae94-75fb220886d7",
   "metadata": {},
   "outputs": [],
   "source": [
    "from mlxtend.frequent_patterns import apriori\n",
    "results = apriori(df, min_support=0.3, use_colnames=True)\n",
    "results['length'] = results['itemsets'].apply(lambda x: len(x)) #добавление размера набора\n",
    "print(results)"
   ]
  },
  {
   "cell_type": "code",
   "execution_count": null,
   "id": "e18ab281-4f26-4ae1-a947-1738e1eed5de",
   "metadata": {},
   "outputs": [],
   "source": [
    "results = apriori(df, min_support=0.3, use_colnames=True, max_len=1)\n",
    "print(results)"
   ]
  },
  {
   "cell_type": "code",
   "execution_count": null,
   "id": "05e3dc2a-b276-4e48-b0aa-3e455698590a",
   "metadata": {},
   "outputs": [],
   "source": [
    "results = apriori(df, min_support=0.3, use_colnames=True)\n",
    "results['length'] = results['itemsets'].apply(lambda x: len(x))\n",
    "results = results[results['length'] == 2]\n",
    "print(results)\n",
    "print('\\nCount of result itemstes = ',len(results))"
   ]
  },
  {
   "cell_type": "code",
   "execution_count": null,
   "id": "24762bc4-e6cf-418a-9e79-f1a133e633e7",
   "metadata": {},
   "outputs": [],
   "source": [
    "def apr(dataframe, support):\n",
    "    results = apriori(dataframe, min_support=support, use_colnames=True) \n",
    "    results['length'] = results['itemsets'].apply(lambda x: len(x)) #добавление размера набора \n",
    "    for_graph.loc[len(for_graph.index)] = [results.itemsets.nunique(), support]\n",
    "\n",
    "for_graph = pd.DataFrame(columns=['count_of_itemsets', 'support'])\n",
    "for p in range(7, 17, 1):\n",
    "    apr(df, p/100)\n",
    "for_graph\n",
    "\n",
    "plt.plot(for_graph.support, for_graph.count_of_itemsets, marker='o')\n",
    "plt.xlabel('Уровень поддержки')\n",
    "plt.ylabel('Количество наборов')\n",
    "plt.grid(True)\n",
    "plt.show()"
   ]
  },
  {
   "cell_type": "code",
   "execution_count": null,
   "id": "899b7ede-b0a1-4946-a636-6f8c272c6e12",
   "metadata": {},
   "outputs": [],
   "source": []
  }
 ],
 "metadata": {
  "kernelspec": {
   "display_name": "Python 3 (ipykernel)",
   "language": "python",
   "name": "python3"
  },
  "language_info": {
   "codemirror_mode": {
    "name": "ipython",
    "version": 3
   },
   "file_extension": ".py",
   "mimetype": "text/x-python",
   "name": "python",
   "nbconvert_exporter": "python",
   "pygments_lexer": "ipython3",
   "version": "3.12.4"
  }
 },
 "nbformat": 4,
 "nbformat_minor": 5
}
